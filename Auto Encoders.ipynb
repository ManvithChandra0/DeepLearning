{
 "cells": [
  {
   "cell_type": "code",
   "execution_count": 18,
   "id": "d442516d",
   "metadata": {},
   "outputs": [],
   "source": [
    "import cv2\n",
    "import numpy as np\n",
    "import matplotlib.pyplot as plt\n",
    "from sklearn.model_selection import train_test_split\n",
    "\n",
    "from tensorflow.keras import Model, Input, regularizers\n",
    "from tensorflow.keras.layers import Dense, Conv2D, MaxPool2D, UpSampling2D\n",
    "from tensorflow.keras.callbacks import EarlyStopping\n",
    "from keras.preprocessing import image\n",
    "\n",
    "import glob\n",
    "from tqdm import tqdm\n",
    "import warnings;\n",
    "warnings.filterwarnings('ignore')"
   ]
  },
  {
   "cell_type": "code",
   "execution_count": 19,
   "id": "19b33bb6",
   "metadata": {},
   "outputs": [
    {
     "name": "stderr",
     "output_type": "stream",
     "text": [
      "100%|███████████████████████████████████| 13233/13233 [00:08<00:00, 1489.69it/s]\n"
     ]
    }
   ],
   "source": [
    "face_images = glob.glob('lfw/**/*.jpg')\n",
    "\n",
    "all_images = []\n",
    "\n",
    "for i in tqdm(face_images):\n",
    "  img = image.load_img(i, target_size=(80,80,3))\n",
    "  img = image.img_to_array(img)\n",
    "  img = img/255.\n",
    "  all_images.append(img)"
   ]
  },
  {
   "cell_type": "code",
   "execution_count": 20,
   "id": "23b931af",
   "metadata": {},
   "outputs": [],
   "source": [
    "all_images = np.array(all_images)\n",
    "\n",
    "# split data into train and validation data\n",
    "train_x, val_x = train_test_split(all_images, random_state=47, test_size=0.1)"
   ]
  },
  {
   "cell_type": "code",
   "execution_count": 21,
   "id": "7061467b",
   "metadata": {},
   "outputs": [],
   "source": [
    "# function to reduce image resolution while keeping the image size constant\n",
    "\n",
    "def pixalate_image(image, scale_percent = 40):\n",
    "  width = int(image.shape[1] * scale_percent / 100)\n",
    "  height = int(image.shape[0] * scale_percent / 100)\n",
    "  dim = (width, height)\n",
    "\n",
    "  small_image = cv2.resize(image, dim, interpolation = cv2.INTER_AREA)\n",
    "  \n",
    "  # scale back to original size\n",
    "  width = int(small_image.shape[1] * 100 / scale_percent)\n",
    "  height = int(small_image.shape[0] * 100 / scale_percent)\n",
    "  dim = (width, height)\n",
    "\n",
    "  low_res_image = cv2.resize(small_image, dim, interpolation = cv2.INTER_AREA)\n",
    "\n",
    "  return low_res_image"
   ]
  },
  {
   "cell_type": "code",
   "execution_count": 22,
   "id": "3102eec6",
   "metadata": {},
   "outputs": [],
   "source": [
    "# get low resolution images for the training set\n",
    "train_x_px = []\n",
    "\n",
    "for i in range(train_x.shape[0]):\n",
    "  temp = pixalate_image(train_x[i,:,:,:])\n",
    "  train_x_px.append(temp)\n",
    "\n",
    "train_x_px = np.array(train_x_px)\n",
    "\n",
    "\n",
    "# get low resolution images for the validation set\n",
    "val_x_px = []\n",
    "\n",
    "for i in range(val_x.shape[0]):\n",
    "  temp = pixalate_image(val_x[i,:,:,:])\n",
    "  val_x_px.append(temp)\n",
    "\n",
    "val_x_px = np.array(val_x_px)"
   ]
  },
  {
   "cell_type": "code",
   "execution_count": 23,
   "id": "62be6fbf",
   "metadata": {},
   "outputs": [],
   "source": [
    "# get low resolution images for the training set\n",
    "train_x_px = []\n",
    "\n",
    "for i in range(train_x.shape[0]):\n",
    "  temp = pixalate_image(train_x[i,:,:,:])\n",
    "  train_x_px.append(temp)\n",
    "\n",
    "train_x_px = np.array(train_x_px)\n",
    "\n",
    "\n",
    "# get low resolution images for the validation set\n",
    "val_x_px = []\n",
    "\n",
    "for i in range(val_x.shape[0]):\n",
    "  temp = pixalate_image(val_x[i,:,:,:])\n",
    "  val_x_px.append(temp)\n",
    "\n",
    "val_x_px = np.array(val_x_px)"
   ]
  },
  {
   "cell_type": "code",
   "execution_count": 24,
   "id": "dcdd1dd5",
   "metadata": {},
   "outputs": [],
   "source": [
    "Input_img = Input(shape=(80, 80, 3))  \n",
    "    \n",
    "#encoding architecture\n",
    "x1 = Conv2D(256, (3, 3), activation='relu', padding='same')(Input_img)\n",
    "x2 = Conv2D(128, (3, 3), activation='relu', padding='same')(x1)\n",
    "x2 = MaxPool2D( (2, 2))(x2)\n",
    "encoded = Conv2D(64, (3, 3), activation='relu', padding='same')(x2)\n",
    "\n",
    "# decoding architecture\n",
    "x3 = Conv2D(64, (3, 3), activation='relu', padding='same')(encoded)\n",
    "x3 = UpSampling2D((2, 2))(x3)\n",
    "x2 = Conv2D(128, (3, 3), activation='relu', padding='same')(x3)\n",
    "x1 = Conv2D(256, (3, 3), activation='relu', padding='same')(x2)\n",
    "decoded = Conv2D(3, (3, 3), padding='same')(x1)\n",
    "\n",
    "autoencoder = Model(Input_img, decoded)\n",
    "autoencoder.compile(optimizer='adam', loss='mse')"
   ]
  },
  {
   "cell_type": "code",
   "execution_count": 25,
   "id": "1a916738",
   "metadata": {},
   "outputs": [
    {
     "name": "stdout",
     "output_type": "stream",
     "text": [
      "Model: \"model_2\"\n",
      "_________________________________________________________________\n",
      " Layer (type)                Output Shape              Param #   \n",
      "=================================================================\n",
      " input_3 (InputLayer)        [(None, 80, 80, 3)]       0         \n",
      "                                                                 \n",
      " conv2d_14 (Conv2D)          (None, 80, 80, 256)       7168      \n",
      "                                                                 \n",
      " conv2d_15 (Conv2D)          (None, 80, 80, 128)       295040    \n",
      "                                                                 \n",
      " max_pooling2d_2 (MaxPoolin  (None, 40, 40, 128)       0         \n",
      " g2D)                                                            \n",
      "                                                                 \n",
      " conv2d_16 (Conv2D)          (None, 40, 40, 64)        73792     \n",
      "                                                                 \n",
      " conv2d_17 (Conv2D)          (None, 40, 40, 64)        36928     \n",
      "                                                                 \n",
      " up_sampling2d_2 (UpSamplin  (None, 80, 80, 64)        0         \n",
      " g2D)                                                            \n",
      "                                                                 \n",
      " conv2d_18 (Conv2D)          (None, 80, 80, 128)       73856     \n",
      "                                                                 \n",
      " conv2d_19 (Conv2D)          (None, 80, 80, 256)       295168    \n",
      "                                                                 \n",
      " conv2d_20 (Conv2D)          (None, 80, 80, 3)         6915      \n",
      "                                                                 \n",
      "=================================================================\n",
      "Total params: 788867 (3.01 MB)\n",
      "Trainable params: 788867 (3.01 MB)\n",
      "Non-trainable params: 0 (0.00 Byte)\n",
      "_________________________________________________________________\n"
     ]
    }
   ],
   "source": [
    "autoencoder.summary()\n"
   ]
  },
  {
   "cell_type": "code",
   "execution_count": 32,
   "id": "03826ff7",
   "metadata": {
    "scrolled": true
   },
   "outputs": [
    {
     "name": "stderr",
     "output_type": "stream",
     "text": [
      "WARNING:absl:At this time, the v2.11+ optimizer `tf.keras.optimizers.Adam` runs slowly on M1/M2 Macs, please use the legacy Keras optimizer instead, located at `tf.keras.optimizers.legacy.Adam`.\n"
     ]
    },
    {
     "name": "stdout",
     "output_type": "stream",
     "text": [
      "WARNING:tensorflow:6 out of the last 48 calls to <function Model.make_predict_function.<locals>.predict_function at 0x280266e60> triggered tf.function retracing. Tracing is expensive and the excessive number of tracings could be due to (1) creating @tf.function repeatedly in a loop, (2) passing tensors with different shapes, (3) passing Python objects instead of tensors. For (1), please define your @tf.function outside of the loop. For (2), @tf.function has reduce_retracing=True option that can avoid unnecessary retracing. For (3), please refer to https://www.tensorflow.org/guide/function#controlling_retracing and https://www.tensorflow.org/api_docs/python/tf/function for  more details.\n"
     ]
    },
    {
     "name": "stderr",
     "output_type": "stream",
     "text": [
      "WARNING:tensorflow:6 out of the last 48 calls to <function Model.make_predict_function.<locals>.predict_function at 0x280266e60> triggered tf.function retracing. Tracing is expensive and the excessive number of tracings could be due to (1) creating @tf.function repeatedly in a loop, (2) passing tensors with different shapes, (3) passing Python objects instead of tensors. For (1), please define your @tf.function outside of the loop. For (2), @tf.function has reduce_retracing=True option that can avoid unnecessary retracing. For (3), please refer to https://www.tensorflow.org/guide/function#controlling_retracing and https://www.tensorflow.org/api_docs/python/tf/function for  more details.\n"
     ]
    },
    {
     "name": "stdout",
     "output_type": "stream",
     "text": [
      "1/1 [==============================] - 0s 69ms/step\n"
     ]
    },
    {
     "name": "stderr",
     "output_type": "stream",
     "text": [
      "WARNING:matplotlib.image:Clipping input data to the valid range for imshow with RGB data ([0..1] for floats or [0..255] for integers).\n"
     ]
    },
    {
     "data": {
      "image/png": "[encoded data removed]",
      "text/plain": [
       "<Figure size 1000x500 with 2 Axes>"
      ]
     },
     "metadata": {},
     "output_type": "display_data"
    }
   ],
   "source": [
    "import cv2\n",
    "import numpy as np\n",
    "import matplotlib.pyplot as plt\n",
    "from tensorflow.keras.models import load_model\n",
    "from keras.preprocessing import image\n",
    "\n",
    "# Load the trained autoencoder model\n",
    "autoencoder = load_model('autoencoder_model.h5')\n",
    "\n",
    "# Function to enhance a single image\n",
    "def enhance_image(image_path, scale_percent=40):\n",
    "    # Load the image\n",
    "    img = image.load_img(image_path, target_size=(80, 80, 3))\n",
    "    img = image.img_to_array(img)\n",
    "    img = img / 255.\n",
    "\n",
    "    # Pixelate the image\n",
    "    width = int(img.shape[1] * scale_percent / 100)\n",
    "    height = int(img.shape[0] * scale_percent / 100)\n",
    "    dim = (width, height)\n",
    "    small_image = cv2.resize(img, dim, interpolation=cv2.INTER_AREA)\n",
    "\n",
    "    # Scale back to original size\n",
    "    width = int(small_image.shape[1] * 100 / scale_percent)\n",
    "    height = int(small_image.shape[0] * 100 / scale_percent)\n",
    "    dim = (width, height)\n",
    "    low_res_image = cv2.resize(small_image, dim, interpolation=cv2.INTER_AREA)\n",
    "\n",
    "    # Enhance the image using the autoencoder model\n",
    "    enhanced_image = autoencoder.predict(np.array([low_res_image]))\n",
    "\n",
    "    return low_res_image, enhanced_image[0]\n",
    "\n",
    "# Provide the path to the image you want to enhance\n",
    "input_image_path = '/Users/manvithchandra/Desktop/img.png'\n",
    "\n",
    "# Enhance the image\n",
    "low_res, enhanced = enhance_image(input_image_path)\n",
    "\n",
    "# Plot the original low-resolution image and the enhanced image\n",
    "plt.figure(figsize=(10, 5))\n",
    "plt.subplot(1, 2, 1)\n",
    "plt.title('Low-Resolution Input')\n",
    "plt.imshow(low_res)\n",
    "plt.axis('off')\n",
    "\n",
    "plt.subplot(1, 2, 2)\n",
    "plt.title('Enhanced Output')\n",
    "plt.imshow(enhanced)\n",
    "plt.axis('off')\n",
    "\n",
    "plt.show()\n"
   ]
  },
  {
   "cell_type": "code",
   "execution_count": null,
   "id": "7882127f",
   "metadata": {},
   "outputs": [],
   "source": []
  },
  {
   "cell_type": "code",
   "execution_count": null,
   "id": "3527939c",
   "metadata": {},
   "outputs": [],
   "source": []
  },
  {
   "cell_type": "code",
   "execution_count": null,
   "id": "5bbeb5f3",
   "metadata": {},
   "outputs": [],
   "source": []
  }
 ],
 "metadata": {
  "kernelspec": {
   "display_name": "Python 3 (ipykernel)",
   "language": "python",
   "name": "python3"
  },
  "language_info": {
   "codemirror_mode": {
    "name": "ipython",
    "version": 3
   },
   "file_extension": ".py",
   "mimetype": "text/x-python",
   "name": "python",
   "nbconvert_exporter": "python",
   "pygments_lexer": "ipython3",
   "version": "3.10.2"
  }
 },
 "nbformat": 4,
 "nbformat_minor": 5
}
